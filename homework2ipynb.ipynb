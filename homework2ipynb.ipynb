{
  "nbformat": 4,
  "nbformat_minor": 0,
  "metadata": {
    "colab": {
      "provenance": []
    },
    "kernelspec": {
      "name": "python3",
      "display_name": "Python 3"
    },
    "language_info": {
      "name": "python"
    }
  },
  "cells": [
    {
      "cell_type": "markdown",
      "source": [
        "Задание 1.\"Сортировка в обратном порядке\""
      ],
      "metadata": {
        "id": "hL5eSRW_Nujb"
      }
    },
    {
      "cell_type": "code",
      "execution_count": null,
      "metadata": {
        "id": "6AlQsvED_ERs"
      },
      "outputs": [],
      "source": [
        "n = int(input())\n",
        "lst = []\n",
        "for i in range(n):\n",
        "    a = int(input())\n",
        "    lst.append(a)\n",
        "lst.sort()\n",
        "lst.reverse()\n",
        "print(lst)"
      ]
    },
    {
      "cell_type": "markdown",
      "source": [
        "Задание 2.\"Фильтр\""
      ],
      "metadata": {
        "id": "l3dCFQUkN3fi"
      }
    },
    {
      "cell_type": "code",
      "source": [
        "n = int(input())\n",
        "lst = []\n",
        "for i in range(n):\n",
        "    a = str(input())\n",
        "    lst.append(a)\n",
        "lst_without_hashes = list(filter(lambda x: not x.startswith('####'), lst))\n",
        "lst_without = []\n",
        "for line in lst_without_hashes:\n",
        "    if line.startswith('%%'):\n",
        "        lst_without.append(line[2:])\n",
        "    else:\n",
        "        lst_without.append(line)\n",
        "for e in lst_without:\n",
        "    print(e)"
      ],
      "metadata": {
        "id": "pJc17reHN8BN"
      },
      "execution_count": null,
      "outputs": []
    },
    {
      "cell_type": "markdown",
      "source": [
        "Заданае 3. От и до"
      ],
      "metadata": {
        "id": "NCktGE72Oeiy"
      }
    },
    {
      "cell_type": "code",
      "source": [
        "N = int(input())\n",
        "numbers = []\n",
        "for i in range(N):\n",
        "    number = int(input())\n",
        "    numbers.append(number)\n",
        "p = int(input())\n",
        "q = int(input())\n",
        "if not (1 <= p <= q <= N):\n",
        "    print(\"Ошибка ввода. Убедитесь, что 1 ≤ p ≤ q ≤ N.\")\n",
        "else:\n",
        "    sublist = numbers[p-1:q]\n",
        "result = sum(sublist)\n",
        "print (result)"
      ],
      "metadata": {
        "id": "59zI6JBQtVAO"
      },
      "execution_count": null,
      "outputs": []
    },
    {
      "cell_type": "markdown",
      "source": [
        "Задание 4. Список отличников"
      ],
      "metadata": {
        "id": "4Sdqvwnn7arP"
      }
    },
    {
      "cell_type": "code",
      "source": [
        "def Artek():\n",
        "    s = str(input())\n",
        "    n = int(input())\n",
        "    students = s.split(', ')\n",
        "    selected_students = []\n",
        "    for student in students:\n",
        "        if '5' in student:\n",
        "            selected_students.append(student)\n",
        "    selected_students_names = [selected_student.split()[0] for selected_student in selected_students]\n",
        "    if len(selected_students) > n:\n",
        "        selected_students_names.sort()\n",
        "        print(\", \".join(selected_students_names[:n]))\n",
        "    else:\n",
        "        print(\", \".join(selected_students_names))\n",
        "Artek()"
      ],
      "metadata": {
        "id": "Z-AuaQbZHm5r"
      },
      "execution_count": null,
      "outputs": []
    },
    {
      "cell_type": "markdown",
      "source": [
        "Задание 5. Пароль"
      ],
      "metadata": {
        "id": "XUuTk3CaInRD"
      }
    },
    {
      "cell_type": "code",
      "source": [
        "def password_level():\n",
        "    p = str(input('Введите пароль:'))\n",
        "    if len(p) <= 7:\n",
        "        print ('Недопустимый пароль')\n",
        "    else:\n",
        "        if p.isdigit() or p.islower() or p.isupper():\n",
        "            print ('Ненадежный пароль')\n",
        "        else:\n",
        "            if p.isalpha() or ((p.islower() or p.isupper()) and p.isalnum()) or all(char not in \"@#$%&*().,-_+\" for char in p):\n",
        "                print ('Слабый пароль')\n",
        "            else:\n",
        "                print ('Надежный пароль')\n",
        "password_level()"
      ],
      "metadata": {
        "id": "riYsNTs2Ir2r"
      },
      "execution_count": null,
      "outputs": []
    }
  ]
}