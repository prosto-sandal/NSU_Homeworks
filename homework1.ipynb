{
  "nbformat": 4,
  "nbformat_minor": 0,
  "metadata": {
    "colab": {
      "provenance": []
    },
    "kernelspec": {
      "name": "python3",
      "display_name": "Python 3"
    },
    "language_info": {
      "name": "python"
    }
  },
  "cells": [
    {
      "cell_type": "markdown",
      "source": [
        "Задание 1"
      ],
      "metadata": {
        "id": "M5ZuK6fDUKYK"
      }
    },
    {
      "cell_type": "code",
      "execution_count": null,
      "metadata": {
        "id": "8l3G4Zpwie-R"
      },
      "outputs": [],
      "source": [
        "a = float(input())\n",
        "if a < 15.5:\n",
        "    print ('холодно')\n",
        "else:\n",
        "    if a > 28:\n",
        "      print ('жарко')\n",
        "    else:\n",
        "      print ('нормально')"
      ]
    },
    {
      "cell_type": "markdown",
      "source": [
        "ЗАдание 2"
      ],
      "metadata": {
        "id": "Lriu9pFVSmCU"
      }
    },
    {
      "cell_type": "code",
      "source": [
        "n = int(input())\n",
        "cat = False\n",
        "for i in range(n):\n",
        "    a = str(input())\n",
        "    if 'кот' in a or 'Кот' in a:\n",
        "        cat = True\n",
        "if cat:\n",
        "    print ('МЯУ')\n",
        "else:\n",
        "    print ('нет')"
      ],
      "metadata": {
        "id": "oV8jkfKRR75P"
      },
      "execution_count": null,
      "outputs": []
    },
    {
      "cell_type": "markdown",
      "source": [
        "Задание 3"
      ],
      "metadata": {
        "id": "Is0K73kmTf5q"
      }
    },
    {
      "cell_type": "code",
      "source": [
        "shortest_word = longest_word = input()\n",
        "while True:\n",
        "    word = input()\n",
        "    if word == \"стоп\":\n",
        "        break\n",
        "    shortest_word = min(word, shortest_word, key=len)\n",
        "    longest_word = max(word, longest_word, key=len)\n",
        "if set(shortest_word) <= set(longest_word):\n",
        "    print(\"ДА\")\n",
        "else:\n",
        "    print(\"НЕТ\")"
      ],
      "metadata": {
        "id": "GxuMtqevfoSW"
      },
      "execution_count": null,
      "outputs": []
    },
    {
      "cell_type": "markdown",
      "source": [
        "Задание 4"
      ],
      "metadata": {
        "id": "Jfj08zFwgMvM"
      }
    },
    {
      "cell_type": "code",
      "source": [
        "n = int(input())\n",
        "words = []\n",
        "for i in range (n):\n",
        "    a = str (input())\n",
        "    words.append(a)\n",
        "for a in words:\n",
        "    print (a)"
      ],
      "metadata": {
        "id": "glVpVQqbgOsj"
      },
      "execution_count": null,
      "outputs": []
    },
    {
      "cell_type": "markdown",
      "source": [
        "Задание 5"
      ],
      "metadata": {
        "id": "oA1rnQZxjyag"
      }
    },
    {
      "cell_type": "code",
      "source": [
        "a = str(input())\n",
        "b = []\n",
        "for e in a:\n",
        "    b.append(e * 2)\n",
        "c = ''.join(b)\n",
        "print(c)"
      ],
      "metadata": {
        "id": "EEpHhn-Njzx-"
      },
      "execution_count": null,
      "outputs": []
    },
    {
      "cell_type": "markdown",
      "source": [
        "Задание 6"
      ],
      "metadata": {
        "id": "TCJHCI2Gpbfr"
      }
    },
    {
      "cell_type": "code",
      "source": [
        "def greet():\n",
        "    s = str (input('Фамилия:'))\n",
        "    n = str (input('Имя:'))\n",
        "    greeting = 'Здравствуйте, ' + n + ' ' + s + '.'\n",
        "    print (greeting)\n",
        "greet ()"
      ],
      "metadata": {
        "id": "Rvvs7I9Y70DS"
      },
      "execution_count": null,
      "outputs": []
    },
    {
      "cell_type": "markdown",
      "source": [
        "либо"
      ],
      "metadata": {
        "id": "eHaiMxms89Ap"
      }
    },
    {
      "cell_type": "code",
      "source": [
        "def greet():\n",
        "    s = str (input('Фамилия:'))\n",
        "    n = str (input('Имя:'))\n",
        "    print (f'Здравствуйте, {n} {s}.')\n",
        "\n",
        "greet ()"
      ],
      "metadata": {
        "id": "diQ_Ouc_8-Tr"
      },
      "execution_count": null,
      "outputs": []
    },
    {
      "cell_type": "markdown",
      "source": [
        "Задание 8\n",
        "Опыта программирования нет от слова совсем. Учусь на меде, поэтому программирования и математики у нас нет (ну математика была 5 лет назад, но очень поверхностно). При решении задач столкнулась со сложностями именно написания кода (если так правильно говорить), так как в голове чаще всего быстро формировался алгоритм решения. Наиболее сложным наверное оказалось задание 3."
      ],
      "metadata": {
        "id": "uNsXy7zy9Mxt"
      }
    }
  ]
}