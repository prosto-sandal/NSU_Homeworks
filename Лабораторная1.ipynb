{
  "nbformat": 4,
  "nbformat_minor": 0,
  "metadata": {
    "colab": {
      "provenance": []
    },
    "kernelspec": {
      "name": "python3",
      "display_name": "Python 3"
    },
    "language_info": {
      "name": "python"
    }
  },
  "cells": [
    {
      "cell_type": "code",
      "source": [
        "class Pupa():\n",
        "    \"\"\"Описание работника Пупа\"\"\"\n",
        "    def __init__(self):\n",
        "        \"\"\"свойства(количество расчетов и \"бонусная\"зарплата за каждый расчет) Пупы\"\"\"\n",
        "        self.quantity_results = 0\n",
        "        self.bonus_work = 0\n",
        "    def do_work(self, spisok1, spisok2):\n",
        "        \"\"\"выполнение работы (суммирует поэлементно числа из обоих списков)\"\"\"\n",
        "        result = []\n",
        "        for a, b in zip(spisok1, spisok2):\n",
        "          result.append(a + b)\n",
        "        self.quantity_results += len(result)\n",
        "        print(f\"Pupa: Результат трудов - {result}\")\n",
        "        self.take_salary(self.quantity_results)\n",
        "\n",
        "    def take_salary(self, quantity_results):\n",
        "        \"\"\"\"бонусная\" зарплата за каждый расчет\"\"\"\n",
        "        bonus = 500\n",
        "        \"\"\"бонус за 1 выполненный рассчет\"\"\"\n",
        "        self.bonus_work += bonus*quantity_results\n",
        "\n",
        "class Lupa():\n",
        "    \"\"\"Описание работника Лупа\"\"\"\n",
        "    def __init__(self):\n",
        "        \"\"\"свойства(количество расчетов и \"бонусная\"зарплата за каждый расчет) Лупы\"\"\"\n",
        "        self.quantity_results = 0\n",
        "        self.bonus_work = 0\n",
        "    def do_work(self, spisok1, spisok2):\n",
        "        \"\"\"выполнение работы (вычитает поэлементно числа из обоих списков)\"\"\"\n",
        "        result = []\n",
        "        for a, b in zip(spisok1, spisok2):\n",
        "          result.append(a - b)\n",
        "        self.quantity_results += len(result)\n",
        "        print(f\"Lupa: Результат трудов - {result}\")\n",
        "        self.take_salary(self.quantity_results)\n",
        "\n",
        "    def take_salary(self, quantity_results):\n",
        "        \"\"\"\"бонусная\" зарплата за каждый расчет\"\"\"\n",
        "        bonus = 500\n",
        "        \"\"\"бонус за 1 выполненный рассчет\"\"\"\n",
        "        self.bonus_work += bonus*quantity_results\n",
        "\n",
        "class Accountant(Pupa, Lupa):\n",
        "    def __init__(self):\n",
        "        \"\"\"зарплата, выдаваемая работнику\"\"\"\n",
        "        self.total_salary = 0\n",
        "\n",
        "    def give_salary(self, worker, spisok1, spisok2):\n",
        "        \"\"\"зарплата начисляется в виде фиксированной ставки + бонус за каждый рассчет\"\"\"\n",
        "        base_salary = 1000\n",
        "        \"\"\"базовая ставка\"\"\"\n",
        "        worker.do_work(spisok1, spisok2)\n",
        "        total_salary = base_salary + worker.bonus_work\n",
        "        self.total_salary += total_salary\n",
        "        print(f\"Зарплата: {total_salary}\")\n",
        "\n",
        "\"\"\"В качестве примера\"\"\"\n",
        "pupa = Pupa()\n",
        "lupa = Lupa()\n",
        "accountant = Accountant()\n",
        "accountant.give_salary(pupa, [1,3,5,8,4,2,7], [5,8,4,2,7,2,23])\n",
        "accountant.give_salary(lupa, [1,34,7], [5,3,6])"
      ],
      "metadata": {
        "id": "vPK9HqgJWSLo"
      },
      "execution_count": null,
      "outputs": []
    }
  ]
}